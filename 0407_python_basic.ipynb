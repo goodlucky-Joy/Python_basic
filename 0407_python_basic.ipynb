{
  "metadata": {
    "kernelspec": {
      "name": "python",
      "display_name": "Python (Pyodide)",
      "language": "python"
    },
    "language_info": {
      "codemirror_mode": {
        "name": "python",
        "version": 3
      },
      "file_extension": ".py",
      "mimetype": "text/x-python",
      "name": "python",
      "nbconvert_exporter": "python",
      "pygments_lexer": "ipython3",
      "version": "3.8"
    }
  },
  "nbformat_minor": 4,
  "nbformat": 4,
  "cells": [
    {
      "cell_type": "code",
      "source": "print('Hello, World')",
      "metadata": {
        "trusted": true
      },
      "outputs": [
        {
          "name": "stdout",
          "text": "Hello, World\n",
          "output_type": "stream"
        }
      ],
      "execution_count": 18
    },
    {
      "cell_type": "markdown",
      "source": "# 2. 변수와 문자열",
      "metadata": {}
    },
    {
      "cell_type": "code",
      "source": "a=3\nprint(a)",
      "metadata": {
        "trusted": true
      },
      "outputs": [
        {
          "name": "stdout",
          "text": "3\n",
          "output_type": "stream"
        }
      ],
      "execution_count": 19
    },
    {
      "cell_type": "code",
      "source": "x=input(\"숫자를 입력하세요\")\nprint(x)",
      "metadata": {
        "trusted": true
      },
      "outputs": [
        {
          "name": "stdout",
          "text": "<PyodideFuture pending cb=[WebLoop._decrement_in_progress()]>\n",
          "output_type": "stream"
        },
        {
          "output_type": "stream",
          "name": "stdin",
          "text": "숫자를 입력하세요 22\n"
        }
      ],
      "execution_count": 23
    },
    {
      "cell_type": "code",
      "source": "y =int(await x) + 1\nprint(y)",
      "metadata": {
        "trusted": true
      },
      "outputs": [
        {
          "name": "stdout",
          "text": "23\n",
          "output_type": "stream"
        }
      ],
      "execution_count": 24
    },
    {
      "cell_type": "code",
      "source": "a = str (await x)  # https://stackoverflow.com/questions/77380650/how-to-use-intinput-in-jupyterlite-pyodide-kernel\nprint(type(a))\nprint(a)",
      "metadata": {
        "trusted": true,
        "scrolled": true
      },
      "outputs": [
        {
          "name": "stdout",
          "text": "<class 'str'>\n55\n",
          "output_type": "stream"
        }
      ],
      "execution_count": 10
    },
    {
      "cell_type": "code",
      "source": "tempC=27\ntempF=(tempC*9)/5+32\nprint(tempF)\n",
      "metadata": {
        "trusted": true
      },
      "outputs": [
        {
          "name": "stdout",
          "text": "80.6\n",
          "output_type": "stream"
        }
      ],
      "execution_count": 9
    },
    {
      "cell_type": "code",
      "source": "c=input(\"섭씨온도를 입력하세요\")",
      "metadata": {
        "trusted": true
      },
      "outputs": [
        {
          "output_type": "stream",
          "name": "stdin",
          "text": "섭씨온도를 입력하세요 27\n"
        }
      ],
      "execution_count": 16
    },
    {
      "cell_type": "code",
      "source": "tempC = int (await c)\nprint(tempC)\ntempF=(tempC*9)/5+32\nprint(tempF)\n    ",
      "metadata": {
        "trusted": true
      },
      "outputs": [
        {
          "name": "stdout",
          "text": "27\n80.6\n",
          "output_type": "stream"
        }
      ],
      "execution_count": 17
    },
    {
      "cell_type": "code",
      "source": "print(2**8)",
      "metadata": {
        "trusted": true
      },
      "outputs": [],
      "execution_count": null
    },
    {
      "cell_type": "code",
      "source": "s1=\"abc def\"\nprint(s1 + \"\\n\"+ \"\\n\"+ \"\\n\")\ns2=\"Isn't it cold?\"\nprint(s2)",
      "metadata": {
        "trusted": true
      },
      "outputs": [
        {
          "name": "stdout",
          "text": "abc def\n\n\n\nIsn't it cold?\n",
          "output_type": "stream"
        }
      ],
      "execution_count": 31
    },
    {
      "cell_type": "code",
      "source": "s=\"Isn't it cold?\"\nprint(s)",
      "metadata": {
        "trusted": true
      },
      "outputs": [],
      "execution_count": null
    },
    {
      "cell_type": "code",
      "source": "s1 = \"abc\"\ns2 = \"def\"\ns = s1 + s2\nprint(s)",
      "metadata": {
        "trusted": true
      },
      "outputs": [],
      "execution_count": null
    },
    {
      "cell_type": "code",
      "source": "s = \"abc\" + str(123)\nprint(s)\n",
      "metadata": {
        "trusted": true
      },
      "outputs": [],
      "execution_count": null
    },
    {
      "cell_type": "code",
      "source": "print(str(123))",
      "metadata": {
        "trusted": true
      },
      "outputs": [],
      "execution_count": null
    },
    {
      "cell_type": "code",
      "source": "print(\"00123.45\")",
      "metadata": {
        "trusted": true
      },
      "outputs": [],
      "execution_count": null
    },
    {
      "cell_type": "code",
      "source": "print(int(\"1001\",2))",
      "metadata": {
        "trusted": true
      },
      "outputs": [],
      "execution_count": null
    },
    {
      "cell_type": "code",
      "source": "print(int(\"-123\"))",
      "metadata": {
        "trusted": true
      },
      "outputs": [],
      "execution_count": null
    },
    {
      "cell_type": "code",
      "source": "print(float(\"00123.45\"))",
      "metadata": {
        "trusted": true
      },
      "outputs": [],
      "execution_count": null
    },
    {
      "cell_type": "code",
      "source": "print(float(3))",
      "metadata": {
        "trusted": true
      },
      "outputs": [],
      "execution_count": null
    },
    {
      "cell_type": "code",
      "source": "print(bin(3))",
      "metadata": {
        "trusted": true
      },
      "outputs": [],
      "execution_count": null
    },
    {
      "cell_type": "code",
      "source": "print(int(\"AFF0\",16))",
      "metadata": {
        "trusted": true
      },
      "outputs": [],
      "execution_count": null
    },
    {
      "cell_type": "code",
      "source": "print(len(\"abcdef\"))",
      "metadata": {
        "trusted": true
      },
      "outputs": [],
      "execution_count": null
    },
    {
      "cell_type": "code",
      "source": "s=\"abcdefghi\"\nprint(s.find(\"def\"))",
      "metadata": {
        "trusted": true
      },
      "outputs": [
        {
          "name": "stdout",
          "text": "3\n",
          "output_type": "stream"
        }
      ],
      "execution_count": 32
    },
    {
      "cell_type": "code",
      "source": "s=\"abcdefghi\"\nprint(s[1:5])  # 1의 위치부터 (5-1)의 위치까지의 문자열\nprint(s[:5])   # 처음부터 (5-1)의 위치까지의 문자열 \nprint(s[3:])   # 3의 위치부터 끝까지의 문자열\nprint(s[-3:])  # 끝에서 3번째부터 끝까지의 문자열\nprint(s[3:-3]) # 3위치부터 (끝에서 3번째-1)의 위치까지의 문자열",
      "metadata": {
        "trusted": true
      },
      "outputs": [
        {
          "name": "stdout",
          "text": "bcde\nabcde\ndefghi\nghi\ndef\n",
          "output_type": "stream"
        }
      ],
      "execution_count": 33
    },
    {
      "cell_type": "code",
      "source": "s=\"Every cat has his day\"\nprint(s.find(\"cat\"))\nprint(s.replace(\"cat\", \"dog\"))",
      "metadata": {
        "trusted": true
      },
      "outputs": [
        {
          "name": "stdout",
          "text": "6\nEvery duck has his day\n",
          "output_type": "stream"
        }
      ],
      "execution_count": 38
    },
    {
      "cell_type": "code",
      "source": "print(\"aBcDe\".upper())\nprint(\"aBcDe\".lower())\ns=\"aBcDe\"\nprint(s.upper())\nprint(s.lower())\nprint(s)",
      "metadata": {
        "trusted": true
      },
      "outputs": [],
      "execution_count": null
    },
    {
      "cell_type": "code",
      "source": "s_upper = s.upper()\nprint(s_upper)",
      "metadata": {
        "trusted": true
      },
      "outputs": [],
      "execution_count": null
    },
    {
      "cell_type": "code",
      "source": "x=1.2345678\nprint(\"x={:.2f}\".format(x))  # 소수 두자리 소수로 표현\nprint(\"x={:7.2f}\".format(x)) # 앞에 공백 세개 추가됨",
      "metadata": {
        "trusted": true
      },
      "outputs": [],
      "execution_count": null
    },
    {
      "cell_type": "code",
      "source": "from datetime import datetime\nd = datetime.now()\nprint(d)\nprint(\"{:%Y-%m-%d %H:%M:%S}\".format(d))\n",
      "metadata": {
        "trusted": true
      },
      "outputs": [],
      "execution_count": null
    },
    {
      "cell_type": "code",
      "source": "# 한 줄 주석입니다\n\n'''\n여러 줄에 걸친 주석입니다\n'''\n",
      "metadata": {
        "trusted": true
      },
      "outputs": [],
      "execution_count": null
    },
    {
      "cell_type": "markdown",
      "source": "# 3. 조건문과 반복문",
      "metadata": {}
    },
    {
      "cell_type": "code",
      "source": "x = 50\nif x > 100:\t# 조건의 결과가 참(True)인 경우, 들여쓰기 라인 실행\n    print(\"x is bigger than 100\")\n\nprint(\"Finish\")",
      "metadata": {
        "trusted": true,
        "scrolled": true
      },
      "outputs": [
        {
          "name": "stdout",
          "text": "Finish\n",
          "output_type": "stream"
        }
      ],
      "execution_count": 40
    },
    {
      "cell_type": "code",
      "source": "x = 30\nif x > 100:\n    print(\"x is bigger than 100\")\nelse:\n    print(\"x is smaller than 100\")\nprint(\"Bye\")\n",
      "metadata": {
        "trusted": true
      },
      "outputs": [
        {
          "name": "stdout",
          "text": "x is smaller than 100\nBye\n",
          "output_type": "stream"
        }
      ],
      "execution_count": 42
    },
    {
      "cell_type": "code",
      "source": "x = 90\nif x > 70:\n    print(\"C\")\nelif x > 80:\n    print(\"B\")\nelif x > 90:\n    print(\"A\")\nelse:\n    print(\"F\")\nprint(\"Bye\")\n",
      "metadata": {
        "trusted": true
      },
      "outputs": [
        {
          "name": "stdout",
          "text": "C\nBye\n",
          "output_type": "stream"
        }
      ],
      "execution_count": 46
    },
    {
      "cell_type": "code",
      "source": "print(\"10!=20 :\", 10!=20)\nprint(\"10!=10 :\", 10!=10)\nprint(\"10>=10 :\", 10>=10)\nprint(\"10>=11 :\", 10>=11)\nprint(\"10==10 :\", 10==10)",
      "metadata": {
        "trusted": true
      },
      "outputs": [],
      "execution_count": null
    },
    {
      "cell_type": "code",
      "source": "print(\"aa < ab :\", 'aa' < 'ab')\nprint(\"aa < aaa :\", 'aa' < 'aaa')\nprint(\"aaa < aa :\", 'aaa' < 'aa')\nprint(\"a < A :\", 'a' < 'A')\nprint(\"A < a :\", 'A' < 'a')\n",
      "metadata": {
        "trusted": true
      },
      "outputs": [],
      "execution_count": null
    },
    {
      "cell_type": "code",
      "source": "x = 17\nif x>=10 and x<=20:\n    print('x is between 10 and 20')",
      "metadata": {
        "trusted": true
      },
      "outputs": [],
      "execution_count": null
    },
    {
      "cell_type": "code",
      "source": "for i in range(1,11):  # 1부터 (11-1)까지\n    print(i)",
      "metadata": {
        "trusted": true
      },
      "outputs": [],
      "execution_count": null
    },
    {
      "cell_type": "code",
      "source": "i = 1\nwhile i != 11:\n    print(i)\n    i += 1",
      "metadata": {
        "trusted": true
      },
      "outputs": [],
      "execution_count": null
    },
    {
      "cell_type": "code",
      "source": "i = 1\nwhile i != 11:\n    print(i)\n    i += 1\n    if i > 5 :\n        break",
      "metadata": {
        "trusted": true,
        "scrolled": true
      },
      "outputs": [],
      "execution_count": null
    },
    {
      "cell_type": "markdown",
      "source": "# 4. 함수와 구조적 타입",
      "metadata": {}
    },
    {
      "cell_type": "code",
      "source": "# 1부터 5까지 출력하는 함수 정의\ndef count_to_5():\n    for i in range(1,6):\n        print(i) # 함수 호출\ncount_to_5()",
      "metadata": {
        "trusted": true
      },
      "outputs": [],
      "execution_count": null
    },
    {
      "cell_type": "code",
      "source": "# 1부터 n까지 출력하는 함수 정의\ndef count_to_n(n):\n    for i in range(1,n+1):\n        print(i)\n# 함수 호출\ncount_to_n(5)",
      "metadata": {
        "trusted": true
      },
      "outputs": [],
      "execution_count": null
    },
    {
      "cell_type": "code",
      "source": "# 매개변수 기본값\ndef count_to_n(n=5):\n    for i in range(1,n+1):\n        print(i)\n# 함수 호출\ncount_to_n()\n",
      "metadata": {
        "trusted": true
      },
      "outputs": [],
      "execution_count": null
    },
    {
      "cell_type": "code",
      "source": "# 매개변수에 값을 넣을 경우\ndef count_to_n(n=5):\n    for i in range(1,n+1):\n        print(i)\n# 함수 호출\ncount_to_n(7)",
      "metadata": {
        "trusted": true
      },
      "outputs": [],
      "execution_count": null
    },
    {
      "cell_type": "code",
      "source": "# 두개 이상의 매개변수가 필요한 함수\ndef count(start_n=1, end_n=5):\n    for i in range(start_n, end_n+1):\n        print(i)\n# 함수 호출\ncount()\n",
      "metadata": {
        "trusted": true
      },
      "outputs": [],
      "execution_count": null
    },
    {
      "cell_type": "code",
      "source": "# 두개 이상의 매개변수가 필요한 함수\ndef count(start_n=1, end_n=5):\n    for i in range(start_n, end_n+1):\n        print(i)\n# 함수 호출시 매개변수 한 개만 입력한 경우\ncount(3)\n",
      "metadata": {
        "trusted": true
      },
      "outputs": [],
      "execution_count": null
    },
    {
      "cell_type": "code",
      "source": "def make_polite(sentence):\n    return sentence + ', please'\n\nprint(make_polite(\"Pass the pencil\"))\n\n",
      "metadata": {
        "trusted": true
      },
      "outputs": [],
      "execution_count": null
    },
    {
      "cell_type": "code",
      "source": "# 1부터 5까지 출력하는 함수 정의\ndef count_to_5():\n    for i in range(1,6):\n        print(i) # 함수 호출\ncount_to_5()",
      "metadata": {
        "trusted": true
      },
      "outputs": [],
      "execution_count": null
    },
    {
      "cell_type": "code",
      "source": "# 1부터 n까지 출력하는 함수 정의\ndef count_to_n(n):\n    for i in range(1,n+1):\n        print(i)\n# 함수 호출\ncount_to_n(5)",
      "metadata": {
        "trusted": true
      },
      "outputs": [],
      "execution_count": null
    },
    {
      "cell_type": "code",
      "source": "# 매개변수 기본값\ndef count_to_n(n=5):\n    for i in range(1,n+1):\n        print(i)\n# 함수 호출\ncount_to_n()",
      "metadata": {
        "trusted": true
      },
      "outputs": [],
      "execution_count": null
    },
    {
      "cell_type": "code",
      "source": "# 매개변수에 값을 넣을 경우\ndef count_to_n(n=5):\n    for i in range(1,n+1):\n        print(i)\n# 함수 호출\ncount_to_n(7)",
      "metadata": {
        "trusted": true
      },
      "outputs": [],
      "execution_count": null
    },
    {
      "cell_type": "code",
      "source": "# 두개 이상의 매개변수가 필요한 함수\ndef count(start_n=1, end_n=5):\n    for i in range(start_n, end_n+1):\n        print(i)\n# 함수 호출\ncount()\n",
      "metadata": {
        "trusted": true
      },
      "outputs": [],
      "execution_count": null
    },
    {
      "cell_type": "code",
      "source": "# 두개 이상의 매개변수가 필요한 함수\ndef count(start_n=1, end_n=5):\n    for i in range(start_n, end_n+1):\n        print(i)\n# 함수 호출시 매개변수 한 개만 입력한 경우\ncount(3)",
      "metadata": {
        "trusted": true
      },
      "outputs": [],
      "execution_count": null
    },
    {
      "cell_type": "code",
      "source": "def make_polite(sentence):\n    return sentence + ', please'\n\nprint(make_polite(\"Pass the pencil\"))\n\n",
      "metadata": {
        "trusted": true
      },
      "outputs": [],
      "execution_count": null
    },
    {
      "cell_type": "code",
      "source": "def make_polite(sentence):\n    return sentence + ', please'\n\nstr_a = input(\"문자열을 입력하세요:\")\nprint(make_polite(str_a))\n",
      "metadata": {
        "trusted": true
      },
      "outputs": [],
      "execution_count": null
    },
    {
      "cell_type": "code",
      "source": "a = [40, 'Joy', 28, False, 10.8]\nb = []\n\nprint(a)\nprint(b)\n",
      "metadata": {
        "trusted": true
      },
      "outputs": [],
      "execution_count": null
    },
    {
      "cell_type": "code",
      "source": "a = [40, 'Joy', 28, False, 10.8]\nprint(a)\n\na[1]='Kang'\nprint(a)\n\n",
      "metadata": {
        "trusted": true
      },
      "outputs": [],
      "execution_count": null
    },
    {
      "cell_type": "code",
      "source": "a = [40, 'Joy', 28, False, 10.8]\nprint(len(a))",
      "metadata": {
        "trusted": true
      },
      "outputs": [],
      "execution_count": null
    },
    {
      "cell_type": "code",
      "source": "a = [40, 'Joy', 28, False, 10.8]\na.append(166)          #리스트의 끝에 새로운 요소 하나를 추가\nprint(a)\n\na.insert(3, 'Python')  #리스트의 특정 위치에 새로운 요소를 추가\nprint(a)\n",
      "metadata": {
        "trusted": true
      },
      "outputs": [],
      "execution_count": null
    },
    {
      "cell_type": "code",
      "source": "a = [40, 'Joy', 28, False, 10.8]\nb = [60, 'Cat']\n\na.extend(b)    #리스트의 끝에 또 다른 리스트의 모든 요소를 추가\nprint(a)\n",
      "metadata": {
        "trusted": true
      },
      "outputs": [],
      "execution_count": null
    },
    {
      "cell_type": "code",
      "source": "a = [40, 'Joy', 28, False, 10.8]\n\nprint(a.pop())  # 리스트에서 제거된 값을 반환\nprint(a)        # pop으로 마지막 요소가 제거된 후의 리스트\n\nprint(a.pop(0)) # 리스트에서 특정 위치의 값을 제거\nprint(a)        # 특정 위치의 요소가 제거된 후의 리스트\n\n",
      "metadata": {
        "trusted": true
      },
      "outputs": [],
      "execution_count": null
    },
    {
      "cell_type": "code",
      "source": "print(\"abc def ghi\".split())\nprint(\"ab-c d-ef gh-i\".split('-'))\nprint(\"a/b/c/d/e/f//g/h/i\".split('/'))",
      "metadata": {
        "trusted": true
      },
      "outputs": [],
      "execution_count": null
    },
    {
      "cell_type": "code",
      "source": "a = [40, 'Joy', 28, False, 10.8]\nfor x in a:\n    print(x)",
      "metadata": {
        "trusted": true
      },
      "outputs": [],
      "execution_count": null
    },
    {
      "cell_type": "code",
      "source": "a = [40, 'Joy', 28, False, 10.8]\nfor (i,x) in enumerate(a):\n    print(i, x)",
      "metadata": {
        "trusted": true
      },
      "outputs": [],
      "execution_count": null
    },
    {
      "cell_type": "code",
      "source": "a = [40, 'Joy', 28, False, 10.8]\nfor i in range(len(a)):\n    print(i, a[i])",
      "metadata": {
        "trusted": true
      },
      "outputs": [],
      "execution_count": null
    },
    {
      "cell_type": "code",
      "source": "a = ['dog', 'cat', 'rabbit', 'duck']\na.sort()\nprint(a)\n",
      "metadata": {
        "trusted": true
      },
      "outputs": [],
      "execution_count": null
    },
    {
      "cell_type": "code",
      "source": "import copy\n\na = ['dog', 'cat', 'rabbit', 'duck']\nb = copy.copy(a)\nprint('b = ', b)\n\nb.sort()\nprint('b = ', b)\n\nprint('a = ', a)\n\n",
      "metadata": {
        "trusted": true
      },
      "outputs": [],
      "execution_count": null
    },
    {
      "cell_type": "code",
      "source": "a_list=[\"a\", \"b\", \"c\", \"d\"]\nprint(a_list)\nprint(\"[1:3] = \",a_list[1:3])\nprint(\"[:3] = \",a_list[:3])\nprint(\"[3:] = \",a_list[3:])\nprint(\"[-2:] = \",a_list[-2:])\nprint(\"[:-2] = \",a_list[:-2])\nprint(\"[1:-2] = \",a_list[1:-2])",
      "metadata": {
        "trusted": true
      },
      "outputs": [],
      "execution_count": null
    },
    {
      "cell_type": "code",
      "source": "list_a = ['abc','def','ghi','jkl']\nlist_b = [x.upper() for x in list_a]\n\nprint(list_b)\nprint(list_a)",
      "metadata": {
        "trusted": true
      },
      "outputs": [],
      "execution_count": null
    },
    {
      "cell_type": "code",
      "source": "phone_num = {'Emily':'010-234-5678','Eric':'010-345-6789','Ellie':'010-456-7890'}\n\nprint(phone_num)",
      "metadata": {
        "trusted": true
      },
      "outputs": [],
      "execution_count": null
    },
    {
      "cell_type": "code",
      "source": "dic_a = {'Key1': 1, 'key2':'value2'}\ndic_b = {'b_Key1':dic_a}\nprint(dic_a)\nprint(dic_b)\n",
      "metadata": {
        "trusted": true
      },
      "outputs": [],
      "execution_count": null
    },
    {
      "cell_type": "code",
      "source": "phone_num={'Emily':'010-234-5678','Eric':'010-345-6789','Ellie':'010-456-7890'}\nprint(phone_num['Emily'])\nphone_num['Emily']='010-123-4567'\nprint(phone_num)\n",
      "metadata": {
        "trusted": true
      },
      "outputs": [],
      "execution_count": null
    },
    {
      "cell_type": "code",
      "source": "phone_num={'Emily':'010-234-5678','Eric':'010-345-6789','Ellie':'010-456-7890'}\nphone_num.pop('Emily')\nprint(phone_num)\n",
      "metadata": {
        "trusted": true
      },
      "outputs": [],
      "execution_count": null
    },
    {
      "cell_type": "code",
      "source": "phone_num={'Emily':'010-234-5678','Eric':'010-345-6789','Ellie':'010-456-7890'}\n\nfor name in phone_num:\n    print(name)\nprint('\\n')\n\nfor item in phone_num.items():\n    print(item)\nprint('\\n')\n\nfor name, num in phone_num.items():\n    print(name+\":\"+num)",
      "metadata": {
        "trusted": true
      },
      "outputs": [],
      "execution_count": null
    },
    {
      "cell_type": "code",
      "source": "# 절대온도를 입력받아 섭씨온도와 화씨온도 리턴\ndef calculate_temperatures(kelvin):\n    celsius = kelvin - 273\n    fahrenheit = celsius * 9 / 5 + 32\n    return celsius, fahrenheit\n\nc,f = calculate_temperatures(340)\nprint(c)\nprint(f)\n\ntmp = calculate_temperatures(340)\nprint(tmp)",
      "metadata": {
        "trusted": true
      },
      "outputs": [],
      "execution_count": null
    }
  ]
}